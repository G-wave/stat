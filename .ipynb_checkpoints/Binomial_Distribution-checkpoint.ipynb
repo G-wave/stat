{
 "cells": [
  {
   "cell_type": "markdown",
   "metadata": {
    "collapsed": true
   },
   "source": [
    "<H1> Binomial distribution</H1>"
   ]
  },
  {
   "cell_type": "markdown",
   "metadata": {},
   "source": [
    "Binomial distribution with parameters $n$ and $p$ is the discrete probability distribution of the number of successes in a sequence of n independent Bernoulli experiments, which probalility of success is $p$. A single success / failure experiment is called a Bernoulli trial or Bernoulli experiment and a sequence of outcomes is called a Bernoulli process; for a single trial, $n = 1$, the Binomial distribution becomes a Bernoulli distribution. <br><br>\n",
    "Binomial distribution was derived by Jacob Bernoulli. He considered the case where $p = r/(r + s)$ where p is the probability of success and r and s are positive integers. Blaise Pascal had earlier considered the case where $p = 1/2$."
   ]
  },
  {
   "cell_type": "markdown",
   "metadata": {},
   "source": [
    "## Preparation Concept: Coin Flip (+1/-1)"
   ]
  },
  {
   "cell_type": "code",
   "execution_count": 39,
   "metadata": {
    "collapsed": true
   },
   "outputs": [],
   "source": [
    "# Fair Coin Flip, Head is 1, Tail is -1, to show how the sum is distributed, this is NOT binormal distribution!"
   ]
  },
  {
   "cell_type": "code",
   "execution_count": 7,
   "metadata": {
    "collapsed": true
   },
   "outputs": [],
   "source": [
    "import numpy as np\n",
    "import matplotlib.pyplot as plt\n",
    "%matplotlib inline"
   ]
  },
  {
   "cell_type": "code",
   "execution_count": 56,
   "metadata": {
    "collapsed": true
   },
   "outputs": [],
   "source": [
    "num_of_flips = 100\n",
    "num_of_rounds = 1000\n",
    "p = 0.5"
   ]
  },
  {
   "cell_type": "code",
   "execution_count": 57,
   "metadata": {
    "collapsed": true
   },
   "outputs": [],
   "source": [
    "rounds = []  # save the result of each round"
   ]
  },
  {
   "cell_type": "code",
   "execution_count": 58,
   "metadata": {
    "collapsed": true
   },
   "outputs": [],
   "source": [
    "def sum_of_round(num_of_flips):\n",
    "    #result = #Heads - #Tail = #Heads - (#Flips - #Heads) = 2*#Heads - #Flips\n",
    "    result = 2*sum(np.random.rand(num_of_flips)< p)-num_of_flips\n",
    "    return result"
   ]
  },
  {
   "cell_type": "code",
   "execution_count": 59,
   "metadata": {},
   "outputs": [
    {
     "name": "stdout",
     "output_type": "stream",
     "text": [
      "The number of flip is 100, the number of rounds is 1000\n",
      "The mean is 0.364, the standard deviation is 9.959693971202126\n"
     ]
    }
   ],
   "source": [
    "for round in range(num_of_rounds):\n",
    "    round_sum = sum_of_round(num_of_flips)\n",
    "    rounds.append(round_sum)\n",
    "#print(rounds)\n",
    "print(f\"The number of flip is {num_of_flips}, the number of rounds is {num_of_rounds}\")\n",
    "print(f\"The mean is {np.mean(rounds)}, the standard deviation is {np.std(rounds)}\")"
   ]
  },
  {
   "cell_type": "code",
   "execution_count": 71,
   "metadata": {},
   "outputs": [
    {
     "data": {
      "image/png": "[encoded data removed]",
      "text/plain": [
       "<Figure size 1080x360 with 2 Axes>"
      ]
     },
     "metadata": {},
     "output_type": "display_data"
    }
   ],
   "source": [
    "plt.figure(figsize=(15,5))\n",
    "plt.subplot(1,2,1)\n",
    "plt.hist(rounds, color ='Blue', rwidth=0.8)\n",
    "plt.xlabel('Sum of all flips (+1/-1) ')\n",
    "plt.ylabel('Frequency')\n",
    "plt.xlim(num_of_flips*(-1),num_of_flips)\n",
    "plt.title('$\\mu=' + \"{0:.2f}\".format(np.mean(rounds)) +'\\quad'+'\\sigma=' +\"{0:.2f}\".format(np.std(rounds)) + '$')\n",
    "# \\quad stands for space in Letax\n",
    "\n",
    "plt.subplot(1,2,2)\n",
    "rounds_n = [round / num_of_flips for round in rounds]  #normalized x-Axis\n",
    "plt.hist(rounds_n, color ='Blue', rwidth=0.8)\n",
    "plt.xlabel('Sum of all flips / number of flipers ')\n",
    "plt.ylabel('Frequency')\n",
    "plt.xlim(-1,1)\n",
    "plt.title('$\\mu=' + \"{0:.4f}\".format(np.mean(rounds)/num_of_flips)  + '\\quad'+ '\\sigma=' + \"{0:.2f}\".format(np.std(np.multiply(rounds,1/num_of_flips)))+ '$')\n",
    "plt.show()"
   ]
  },
  {
   "cell_type": "markdown",
   "metadata": {
    "collapsed": true
   },
   "source": [
    "<H1> Binomial Distribution </H1>\n",
    "<H3> A unfaired coin with probability of Head is $p$, trialed independently $n$ times, $k$ successes</H3> \n",
    "### PMF: $B_{p,n}(k) = {n\\choose k}p^k(1-p)^{n-k}$,<br>\n",
    "#### Why: the probalility of $k$ successes is $p^k$, $n-k$ failure is $(n-k)^{1-p}$, for every k-success sequence, there are ${n\\choose k}$ sequences."
   ]
  },
  {
   "cell_type": "markdown",
   "metadata": {},
   "source": [
    "$X\\sim B_{p,n}  \\quad X = \\sum_{i=1}^n{X_i}  \\quad X_1,...,X_n \\sim B_p  \\quad X_i\\perp X_j \\quad 0<i,j<n \\quad i,j \\in N$\n",
    "### $E[X]= E[\\sum_{i=1}^n{X_i}] = \\sum_{i=1}^n {E[X_i]} = \\sum_{i=1}^n {p} = np$              <br> \n",
    "$Var(X) = Var(\\sum_{i=1}^n{X_i}) = \\sum_{i=1}^n{Var(X_i)} = np(1-p)  \\quad \\sigma = \\sqrt{npq}$"
   ]
  },
  {
   "cell_type": "code",
   "execution_count": 73,
   "metadata": {
    "collapsed": true
   },
   "outputs": [],
   "source": [
    "p=0.7\n",
    "num_of_flips = 100\n",
    "num_of_rounds = 1000"
   ]
  },
  {
   "cell_type": "code",
   "execution_count": 74,
   "metadata": {},
   "outputs": [
    {
     "name": "stdout",
     "output_type": "stream",
     "text": [
      "The experiment Mean is 70.149, Standard Deviation is 4.6187443098747085\n",
      "The actual mean is 70.0, Standard deviation is 4.582575694955841\n"
     ]
    }
   ],
   "source": [
    "rounds_result = np.sum(np.random.rand(num_of_rounds, num_of_flips)<p, axis =1)\n",
    "print(f\"The experiment Mean is {np.mean(rounds_result)}, Standard Deviation is {np.std(rounds_result)}\")\n",
    "print(f\"The actual mean is {num_of_flips*p}, Standard deviation is {np.sqrt(num_of_flips*p*(1-p))}\")"
   ]
  },
  {
   "cell_type": "code",
   "execution_count": 79,
   "metadata": {},
   "outputs": [
    {
     "data": {
      "image/png": "[encoded data removed]",
      "text/plain": [
       "<Figure size 1440x720 with 1 Axes>"
      ]
     },
     "metadata": {},
     "output_type": "display_data"
    }
   ],
   "source": [
    "plt.figure(figsize=(20,10))\n",
    "plt.hist(rounds_result, color ='Blue', rwidth=0.8)\n",
    "plt.xlabel('Number of Heads ')\n",
    "plt.ylabel('Frequency')\n",
    "plt.xlim(num_of_flips/2,num_of_flips)\n",
    "x=[num_of_flips*p,num_of_flips*p]\n",
    "y=[0,250]\n",
    "plt.plot(x,y, 'r',linewidth=4, label = 'Theoretical value')\n",
    "x=[np.mean(rounds_result),np.mean(rounds_result)]\n",
    "y=[0,250]\n",
    "plt.plot(x,y, 'g',linewidth=4, label = 'Experiment value')\n",
    "plt.legend()\n",
    "plt.title('$p=0.7 \\quad \\mu=' +str(np.mean(rounds_result))  + '\\quad'+'\\sigma=' +\"{0:.2f}\".format(np.std(rounds_result))+ '$')\n",
    "plt.show()"
   ]
  },
  {
   "cell_type": "code",
   "execution_count": 82,
   "metadata": {
    "collapsed": true
   },
   "outputs": [],
   "source": [
    "def calc_prob(num_of_rounds, num_of_flips, m, n):\n",
    "    '''\n",
    "       Calculate the probability of the num_of_flips toss results fall in the range(m,n)\n",
    "       num_of_rounds\n",
    "       num_of_flips\n",
    "       m is the lower limit of the range\n",
    "       n is the upper limit of the range\n",
    "       prob is the percentage of sum of head within range(m,n)\n",
    "    '''\n",
    "    rounds_result = np.sum(np.random.rand(num_of_rounds, num_of_flips)>0.5, axis =1)\n",
    "    prob = np.sum([round >=m and round <n for round in rounds_result])/num_of_rounds\n",
    "    return prob"
   ]
  },
  {
   "cell_type": "code",
   "execution_count": 81,
   "metadata": {},
   "outputs": [
    {
     "data": {
      "text/plain": [
       "0.956"
      ]
     },
     "execution_count": 81,
     "metadata": {},
     "output_type": "execute_result"
    }
   ],
   "source": [
    "calc_prob(1000, 100, 40, 60)"
   ]
  },
  {
   "cell_type": "code",
   "execution_count": 72,
   "metadata": {},
   "outputs": [
    {
     "data": {
      "application/vnd.jupyter.widget-view+json": {
       "model_id": "751228d436684307b7f2d7a5bdfcca8c",
       "version_major": 2,
       "version_minor": 0
      },
      "text/plain": [
       "A Jupyter Widget"
      ]
     },
     "metadata": {},
     "output_type": "display_data"
    },
    {
     "data": {
      "text/plain": [
       "<function __main__.plot_pmf>"
      ]
     },
     "execution_count": 72,
     "metadata": {},
     "output_type": "execute_result"
    }
   ],
   "source": [
    "import ipywidgets as widgets\n",
    "from scipy import stats\n",
    "\n",
    "def plot_pmf(n, p):\n",
    "    '''\n",
    "    Plot PMF of Binom(n, p)\n",
    "    n: number of trial\n",
    "    p: probalility\n",
    "    '''\n",
    "    k = np.arange(0, n + 1)\n",
    "    p_k = stats.binom.pmf(k, n, p)\n",
    "    plt.plot(k, p_k, '-x', color='b')\n",
    "\n",
    "    plt.title(f'PMF of Binormial Dsitribution $B({p},{n})$')\n",
    "    plt.xlabel('Number of successes: k')\n",
    "    plt.ylabel('Probability of k successes')\n",
    "    #     axes = plt.gca() #Get the Current Axes instance  \n",
    "    #     axes.set_xlim([0, n+1])\n",
    "    #     axes.set_ylim([0, 1.1 * max(p_k)])\n",
    "    plt.show()\n",
    "\n",
    "\n",
    "widgets.interact(\n",
    "    plot_pmf,\n",
    "    n = widgets.IntSlider(min=0, max=50, step=1, value=25),\n",
    "    p = widgets.FloatSlider(min=0, max=1, step=0.01, value=0.5))\n"
   ]
  },
  {
   "cell_type": "markdown",
   "metadata": {
    "collapsed": true
   },
   "source": [
    "# Related Distributions: \n",
    "<ul><li>The Bernoulli Distribution is a special case of the Binomial Distribution, where number of experiment n = 1. <br> \n",
    "<li>Poission Distribution can be seen as divided into infinity number of small intervals, each interval is Bernoulli Distribution. Poisson process is a continuous version of Bernoulli process.\n",
    "<li>When n is large, and p is small (usually n>50, np < 5), Binormial Distribution can be approximated by Possion Distribution. \n",
    "<ul>Why need approximation? 1) The factorials and exponential can become problemetic to calculate and have round off error when n is very large; 2) sometimes, n and/or p is not known, only know mean of occurence $\\lambda$.</ul>\n",
    "<li>In Bernoulli process, the inter-arrival time is Geometric Distribution; in the Possion process, the inter-arrival time is Exponential Distribution. (Exponential Distribution is a continous analogue of Geometric Distribution.\n",
    "<li>Binomial Distribution can also be generialized into Possion Binomial Distribution, in which case, $p_i$ is different in each trial, suppose we know all $p_i$. <br>"
   ]
  },
  {
   "cell_type": "code",
   "execution_count": null,
   "metadata": {
    "collapsed": true
   },
   "outputs": [],
   "source": []
  }
 ],
 "metadata": {
  "kernelspec": {
   "display_name": "Python 3",
   "language": "python",
   "name": "python3"
  },
  "language_info": {
   "codemirror_mode": {
    "name": "ipython",
    "version": 3
   },
   "file_extension": ".py",
   "mimetype": "text/x-python",
   "name": "python",
   "nbconvert_exporter": "python",
   "pygments_lexer": "ipython3",
   "version": "3.7.1"
  }
 },
 "nbformat": 4,
 "nbformat_minor": 2
}
