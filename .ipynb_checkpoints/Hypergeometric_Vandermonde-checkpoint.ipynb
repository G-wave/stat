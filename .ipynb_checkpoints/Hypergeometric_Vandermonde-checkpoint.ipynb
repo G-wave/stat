{
 "cells": [
  {
   "cell_type": "markdown",
   "metadata": {},
   "source": [
    "### Example: There are 30 balls in a bag, 20 red balls and 10 white balls, choose 5 balls randomly from the bag without replacement, if get 4 or more than 4 red balls, you win the game, what is the probability to win the game?"
   ]
  },
  {
   "cell_type": "markdown",
   "metadata": {},
   "source": [
    "### Solution: There are 2 winning cases: get 4 red balls or get 5 red balls, there are total ${20 \\choose 4} {10 \\choose 1}+ {20 \\choose 5}$ ways to choose, so the probability $P = \\frac{{20 \\choose 4} {10 \\choose 1}+ {20 \\choose 5}}  {30 \\choose 5}$  "
   ]
  },
  {
   "cell_type": "markdown",
   "metadata": {},
   "source": [
    "### Hypergeometric Distribution: $m$ red balls, $n$ white balls, choose $r$ balls randomly，what is  the probability of getting $k$ red ball     $P(x = k) = \\frac{{m \\choose k}{n \\choose r-k}}{m+n \\choose r}$, where $0\\le k \\le m$, and $0\\le r-k \\le n$"
   ]
  },
  {
   "cell_type": "markdown",
   "metadata": {},
   "source": [
    "### Vandermonde Indentity"
   ]
  },
  {
   "cell_type": "markdown",
   "metadata": {},
   "source": [
    "### There are m ducans , n peacocks and r top of brances in the forest, how many ways these bird are rest on the top of branch?"
   ]
  },
  {
   "cell_type": "markdown",
   "metadata": {},
   "source": [
    "### There are 2 ways to think of it, which leads same result, which can be expressed by both side of indentity:\n",
    "### $m+n \\choose r$ = $\\sum_{k=0}^{r}{m \\choose k}{n \\choose r-k}$, \n",
    "### divided both side by ${m+n \\choose r}$, then we get the sum of the total probability of hypergeometry distribution = 1."
   ]
  },
  {
   "cell_type": "code",
   "execution_count": 71,
   "metadata": {},
   "outputs": [],
   "source": [
    "import numpy as np\n",
    "from scipy.special import comb"
   ]
  },
  {
   "cell_type": "code",
   "execution_count": 81,
   "metadata": {},
   "outputs": [
    {
     "name": "stdout",
     "output_type": "stream",
     "text": [
      "number of wins: 2227\n"
     ]
    }
   ],
   "source": [
    "bag = list('0') * 20 + list('1') * 10\n",
    "\n",
    "wins = 0\n",
    "for i in range(10000):\n",
    "    ball_index = list(np.random.randint(1,30,5))\n",
    "    choosen_ball = list(bag[i] for i in ball_index)\n",
    "    red = list(map(int,choosen_ball))\n",
    "    total_red = sum(red)\n",
    "    #print(total_red)\n",
    "    if total_red >= 3:\n",
    "        wins += 1\n",
    "        \n",
    "        \n",
    "print(f'number of wins: {wins}')\n",
    "    "
   ]
  },
  {
   "cell_type": "code",
   "execution_count": 75,
   "metadata": {},
   "outputs": [
    {
     "data": {
      "text/plain": [
       "0.4487811039535177"
      ]
     },
     "execution_count": 75,
     "metadata": {},
     "output_type": "execute_result"
    }
   ],
   "source": [
    "(comb(20,4)*comb(10,1)+ comb(20,5))/comb(30,5)"
   ]
  },
  {
   "cell_type": "code",
   "execution_count": null,
   "metadata": {},
   "outputs": [],
   "source": []
  }
 ],
 "metadata": {
  "kernelspec": {
   "display_name": "Python 3",
   "language": "python",
   "name": "python3"
  },
  "language_info": {
   "codemirror_mode": {
    "name": "ipython",
    "version": 3
   },
   "file_extension": ".py",
   "mimetype": "text/x-python",
   "name": "python",
   "nbconvert_exporter": "python",
   "pygments_lexer": "ipython3",
   "version": "3.7.1"
  }
 },
 "nbformat": 4,
 "nbformat_minor": 2
}
