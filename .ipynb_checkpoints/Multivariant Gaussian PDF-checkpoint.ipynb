{
 "cells": [
  {
   "cell_type": "markdown",
   "metadata": {},
   "source": [
    "### Show how to calulate PDF of multivariant Gaussian"
   ]
  },
  {
   "cell_type": "markdown",
   "metadata": {},
   "source": [
    "### $P(x:\\mu, \\sigma^2) = \\frac{1}{\\sqrt(2\\pi)^d\\lvert\\Sigma\\rvert}e^{-\\frac{1}{2}(x-\\mu)^T\\Sigma^{-1}(x-\\mu)}$"
   ]
  },
  {
   "cell_type": "code",
   "execution_count": 33,
   "metadata": {},
   "outputs": [],
   "source": [
    "import numpy as np\n",
    "def multi_gussian_pdf(x, mu, cov):\n",
    "    d = x.shape[0]  # dimension of x\n",
    "    above = np.exp(-(x-mu).T@np.linalg.inv(cov*np.eye(d))@(x-mu)/2)\n",
    "    partition = ((2*np.pi)**(d/2)*np.linalg.det(cov*np.eye(d))**(1/2))\n",
    "    pdf = above / partition\n",
    "    return pdf"
   ]
  },
  {
   "cell_type": "code",
   "execution_count": 34,
   "metadata": {},
   "outputs": [],
   "source": [
    "X = np.array([[1,2,2,3,3,4],[4,3,3,2,2,1]]).T\n",
    "x = X[3]\n",
    "mu = np.mean(X, axis=0)\n",
    "cov = [np.var(X[0]), np.var(X[1])]"
   ]
  },
  {
   "cell_type": "code",
   "execution_count": 35,
   "metadata": {},
   "outputs": [
    {
     "data": {
      "text/plain": [
       "0.12175425736832855"
      ]
     },
     "execution_count": 35,
     "metadata": {},
     "output_type": "execute_result"
    }
   ],
   "source": [
    "from scipy.stats import multivariate_normal\n",
    "multivariate_normal.pdf(x, mu, cov)"
   ]
  },
  {
   "cell_type": "code",
   "execution_count": 36,
   "metadata": {},
   "outputs": [
    {
     "data": {
      "text/plain": [
       "0.12175425736832853"
      ]
     },
     "execution_count": 36,
     "metadata": {},
     "output_type": "execute_result"
    }
   ],
   "source": [
    "multi_gussian_pdf(x, mu, cov)"
   ]
  },
  {
   "cell_type": "code",
   "execution_count": null,
   "metadata": {},
   "outputs": [],
   "source": []
  }
 ],
 "metadata": {
  "kernelspec": {
   "display_name": "Python 3",
   "language": "python",
   "name": "python3"
  },
  "language_info": {
   "codemirror_mode": {
    "name": "ipython",
    "version": 3
   },
   "file_extension": ".py",
   "mimetype": "text/x-python",
   "name": "python",
   "nbconvert_exporter": "python",
   "pygments_lexer": "ipython3",
   "version": "3.7.1"
  }
 },
 "nbformat": 4,
 "nbformat_minor": 2
}
