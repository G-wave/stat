{
 "cells": [
  {
   "cell_type": "markdown",
   "metadata": {},
   "source": [
    "# Bayes Theorem Conditional Probability Balls Example\n"
   ]
  },
  {
   "cell_type": "markdown",
   "metadata": {},
   "source": [
    "There are 2 urns A & B, each urn filled with Red and White balls. Choose one urn randomly and then pick one ball \n",
    "randomly. if you get a white ball, what is the probablity of it is chosen from urn A."
   ]
  },
  {
   "cell_type": "code",
   "execution_count": 3,
   "metadata": {
    "collapsed": true
   },
   "outputs": [],
   "source": [
    "import numpy as np"
   ]
  },
  {
   "cell_type": "code",
   "execution_count": 8,
   "metadata": {
    "collapsed": true
   },
   "outputs": [],
   "source": [
    "def conditional_probability(rA, wA, rB, wB):\n",
    "    # inputs: all of them are of type 'float'\n",
    "    # output: a variable of type 'float'\n",
    "    \n",
    "    #\n",
    "    # YOUR CODE HERE\n",
    "    #\n",
    "    num  = 10000\n",
    "    white = []\n",
    "    \n",
    "    for i in range(num):\n",
    "        choose_urn = np.random.random()\n",
    "        \n",
    "        if choose_urn > 0.5: #URN A\n",
    "            choose_ball = np.random.randint(wA+rA)+1\n",
    "\n",
    "            if choose_ball <= wA:\n",
    "                white.append(1)\n",
    "        elif choose_urn < 0.5:     # URN B \n",
    "            choose_ball = np.random.randint(wB+rB)+1\n",
    "            if choose_ball <= wB:\n",
    "                white.append(0)\n",
    "  \n",
    "    #print(len(white))\n",
    "    return sum(white)/len(white)"
   ]
  },
  {
   "cell_type": "code",
   "execution_count": 9,
   "metadata": {},
   "outputs": [
    {
     "data": {
      "text/plain": [
       "0.6670716889428918"
      ]
     },
     "execution_count": 9,
     "metadata": {},
     "output_type": "execute_result"
    }
   ],
   "source": [
    "conditional_probability(1,2,2,1)"
   ]
  },
  {
   "cell_type": "markdown",
   "metadata": {},
   "source": [
    "The result can also be draw from Bayes Theorem"
   ]
  },
  {
   "cell_type": "markdown",
   "metadata": {},
   "source": [
    "$P(A|W) = P(W|A) * P(A) / P(W) = 2/3 * 1/2 / (2/3 * 1/2 + 1/3 * 1/2) = 2/3$ "
   ]
  },
  {
   "cell_type": "code",
   "execution_count": null,
   "metadata": {
    "collapsed": true
   },
   "outputs": [],
   "source": []
  }
 ],
 "metadata": {
  "kernelspec": {
   "display_name": "Python 3",
   "language": "python",
   "name": "python3"
  },
  "language_info": {
   "codemirror_mode": {
    "name": "ipython",
    "version": 3
   },
   "file_extension": ".py",
   "mimetype": "text/x-python",
   "name": "python",
   "nbconvert_exporter": "python",
   "pygments_lexer": "ipython3",
   "version": "3.6.2"
  }
 },
 "nbformat": 4,
 "nbformat_minor": 2
}
