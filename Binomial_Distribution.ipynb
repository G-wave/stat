{
 "cells": [
  {
   "cell_type": "code",
   "execution_count": 1,
   "metadata": {
    "collapsed": true
   },
   "outputs": [],
   "source": [
    "# Coin Flip, Head is 1, Tail is -1, to show how the sum is distributed"
   ]
  },
  {
   "cell_type": "code",
   "execution_count": 24,
   "metadata": {
    "collapsed": true
   },
   "outputs": [],
   "source": [
    "import numpy as np\n",
    "import matplotlib.pyplot as plt\n",
    "%matplotlib inline"
   ]
  },
  {
   "cell_type": "code",
   "execution_count": 45,
   "metadata": {
    "collapsed": true
   },
   "outputs": [],
   "source": [
    "num_of_flips = 1000\n",
    "num_of_rounds = 1000"
   ]
  },
  {
   "cell_type": "code",
   "execution_count": 46,
   "metadata": {
    "collapsed": true
   },
   "outputs": [],
   "source": [
    "rounds = []  # save the result of each round"
   ]
  },
  {
   "cell_type": "code",
   "execution_count": 47,
   "metadata": {
    "collapsed": true
   },
   "outputs": [],
   "source": [
    "def sum_of_round(num_of_flips):\n",
    "    result = 2*sum(np.random.rand(num_of_flips)>0.5)-num_of_flips\n",
    "    return result"
   ]
  },
  {
   "cell_type": "code",
   "execution_count": 48,
   "metadata": {},
   "outputs": [
    {
     "name": "stdout",
     "output_type": "stream",
     "text": [
      "The number of flip is 1000, the number of rounds is 1000\n",
      "The mean is -0.682, the standard deviation is 31.519182667068\n"
     ]
    }
   ],
   "source": [
    "for round in range(num_of_rounds):\n",
    "    round_sum = sum_of_round(num_of_flip)\n",
    "    rounds.append(round_sum)\n",
    "#print(rounds)\n",
    "print(f\"The number of flip is {num_of_flips}, the number of rounds is {num_of_rounds}\")\n",
    "print(f\"The mean is {np.mean(rounds)}, the standard deviation is {np.std(rounds)}\")"
   ]
  },
  {
   "cell_type": "code",
   "execution_count": 74,
   "metadata": {},
   "outputs": [
    {
     "data": {
      "image/png": "[encoded data removed]",
      "text/plain": [
       "<Figure size 1080x360 with 2 Axes>"
      ]
     },
     "metadata": {},
     "output_type": "display_data"
    }
   ],
   "source": [
    "plt.figure(figsize=(15,5))\n",
    "plt.subplot(1,2,1)\n",
    "plt.hist(rounds, color ='Blue', rwidth=0.8)\n",
    "plt.xlabel('Sum of all flips (+1/-1) ')\n",
    "plt.ylabel('Frequency')\n",
    "plt.xlim(num_of_flips*(-1),num_of_flips)\n",
    "plt.title('$\\mu=' +str(np.mean(rounds))  + '$')\n",
    "\n",
    "\n",
    "plt.subplot(1,2,2)\n",
    "rounds_n = [round / num_of_flips for round in rounds]  #normalized x-Axis\n",
    "plt.hist(rounds_n, color ='Blue', rwidth=0.8)\n",
    "plt.xlabel('Sum of all flips / number of flipers ')\n",
    "plt.ylabel('Frequency')\n",
    "plt.xlim(-1,1)\n",
    "plt.title('$\\mu=' +str(np.mean(rounds))  + '$')\n",
    "plt.show()"
   ]
  },
  {
   "cell_type": "code",
   "execution_count": null,
   "metadata": {},
   "outputs": [],
   "source": []
  },
  {
   "cell_type": "code",
   "execution_count": null,
   "metadata": {
    "collapsed": true
   },
   "outputs": [],
   "source": []
  }
 ],
 "metadata": {
  "kernelspec": {
   "display_name": "Python 3",
   "language": "python",
   "name": "python3"
  },
  "language_info": {
   "codemirror_mode": {
    "name": "ipython",
    "version": 3
   },
   "file_extension": ".py",
   "mimetype": "text/x-python",
   "name": "python",
   "nbconvert_exporter": "python",
   "pygments_lexer": "ipython3",
   "version": "3.6.2"
  }
 },
 "nbformat": 4,
 "nbformat_minor": 2
}
