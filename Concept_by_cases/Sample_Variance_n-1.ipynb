{
 "cells": [
  {
   "cell_type": "markdown",
   "metadata": {},
   "source": [
    "### This program shows the effect of no bias variance should divided by (n-1) , which is degree of freedom"
   ]
  },
  {
   "cell_type": "code",
   "execution_count": null,
   "metadata": {},
   "outputs": [],
   "source": [
    "import numpy as np"
   ]
  },
  {
   "cell_type": "code",
   "execution_count": 55,
   "metadata": {},
   "outputs": [
    {
     "name": "stdout",
     "output_type": "stream",
     "text": [
      "variance divided by n = 0.9901356061181884\n",
      "variance divided by n-1 = 1.0001369758769583\n"
     ]
    }
   ],
   "source": [
    "num = 100000\n",
    "v = []  # variance divided by n\n",
    "v1 = [] # variance divided by n-1\n",
    "for i in range(num):\n",
    "    sample = np.random.normal(0,1,100)\n",
    "    m = np.mean(sample)\n",
    "    v.append(sum((sample - m)**2)/100)\n",
    "    v1.append(sum((sample - m)**2)/99)\n",
    "print(f'variance divided by n = {np.mean(v)}')\n",
    "print(f'variance divided by n-1 = {np.mean(v1)}')"
   ]
  }
 ],
 "metadata": {
  "kernelspec": {
   "display_name": "Python 3",
   "language": "python",
   "name": "python3"
  },
  "language_info": {
   "codemirror_mode": {
    "name": "ipython",
    "version": 3
   },
   "file_extension": ".py",
   "mimetype": "text/x-python",
   "name": "python",
   "nbconvert_exporter": "python",
   "pygments_lexer": "ipython3",
   "version": "3.7.1"
  }
 },
 "nbformat": 4,
 "nbformat_minor": 2
}
