{
 "cells": [
  {
   "cell_type": "markdown",
   "metadata": {},
   "source": [
    "### This program shows the effect of no bias variance should divided by (n-1) , which is degree of freedom"
   ]
  },
  {
   "cell_type": "code",
   "execution_count": 2,
   "metadata": {},
   "outputs": [],
   "source": [
    "import numpy as np\n",
    "from random import sample"
   ]
  },
  {
   "cell_type": "code",
   "execution_count": 55,
   "metadata": {},
   "outputs": [
    {
     "name": "stdout",
     "output_type": "stream",
     "text": [
      "variance divided by n = 0.9901356061181884\n",
      "variance divided by n-1 = 1.0001369758769583\n"
     ]
    }
   ],
   "source": [
    "num = 100000\n",
    "v = []  # variance divided by n\n",
    "v1 = [] # variance divided by n-1\n",
    "for i in range(num):\n",
    "    sample = np.random.normal(0,1,100)\n",
    "    m = np.mean(sample)\n",
    "    v.append(sum((sample - m)**2)/100)\n",
    "    v1.append(sum((sample - m)**2)/99)\n",
    "print(f'variance divided by n = {np.mean(v)}')\n",
    "print(f'variance divided by n-1 = {np.mean(v1)}')"
   ]
  },
  {
   "cell_type": "markdown",
   "metadata": {},
   "source": [
    "### Population Variance: $\\sigma^2 = \\frac{\\Sigma(x_i-\\mu)^2}{n}$\n",
    "### Sample Variance: $S^2 = \\frac{\\Sigma(x_i-\\bar{x})^2}{n-1}$"
   ]
  },
  {
   "cell_type": "code",
   "execution_count": 106,
   "metadata": {},
   "outputs": [
    {
     "name": "stdout",
     "output_type": "stream",
     "text": [
      "mean = 50.0, variance = 850.0\n",
      "850.0\n"
     ]
    }
   ],
   "source": [
    "N = 101                         #Population Size\n",
    "pop = np.arange(N)\n",
    "m = np.mean(pop)                # Mean of Population\n",
    "var = sum((pop - m)**2)/N       # Variance of Population\n",
    "print(f'mean = {m}, variance = {var}')\n",
    "print(np.var(pop))"
   ]
  },
  {
   "cell_type": "code",
   "execution_count": 128,
   "metadata": {},
   "outputs": [],
   "source": [
    "stat=[]\n",
    "n = 50                              # sample size\n",
    "for i in range(10000):              # number of sampling\n",
    "    samp = sample(set(pop),n)       # sampling with size n\n",
    "    x_bar = np.mean(samp)           # mean of sample\n",
    "    s2 = sum((samp - x_bar)**2)/n   # variance divided by n\n",
    "    s2_1 = sum((samp - x_bar)**2)/(n-1)\n",
    "    stat.append([x_bar, s2, s2_1])"
   ]
  },
  {
   "cell_type": "code",
   "execution_count": 129,
   "metadata": {},
   "outputs": [],
   "source": [
    "result = np.mean(stat, axis=0)"
   ]
  },
  {
   "cell_type": "code",
   "execution_count": 130,
   "metadata": {},
   "outputs": [
    {
     "name": "stdout",
     "output_type": "stream",
     "text": [
      "mean = 49.99517199999986, S2n= 841.0374394400006,S2n_1 = 858.2014688163275\n"
     ]
    }
   ],
   "source": [
    "print(f'mean = {result[0]}, S2n= {result[1]},S2n_1 = {result[2]}')"
   ]
  },
  {
   "cell_type": "markdown",
   "metadata": {},
   "source": [
    "## $E[\\sigma^2] = \\frac{\\Sigma(x_i-\\mu)^2}{n} = \\frac{1}{n}\\Sigma(x_i^2 - 2x_i\\mu+\\mu^2)=\\frac{1}{n} (\\Sigma x_i^2 - 2\\mu\\Sigma x_i+ \\Sigma\\mu^2) $\n",
    "## $S^2 = \\frac{1}{n} (\\Sigma x_i^2 - 2\\bar{x}\\Sigma x_i+ \\Sigma\\bar{x}^2) $\n",
    "## $E[\\sigma^2] - S^2 = \\frac{1}{n} (- 2\\mu\\Sigma x_i +2\\bar{x}\\Sigma x_i + \\Sigma\\mu^2 -\\Sigma\\bar{x}^2)$\n",
    "## $E[\\sigma^2] =  S^2 + \\frac{1}{n} (- 2\\mu\\Sigma x_i +2\\bar{x}\\Sigma x_i + \\Sigma\\mu^2 -\\Sigma\\bar{x}^2) = S^2 - 2\\mu \\bar{x} +2\\bar{x}^2 + \\mu^2 -\\bar{x}^2 = S^2 + \\bar{x}^2- 2\\mu \\bar{x} + \\mu^2 = S^2 + (\\bar{x}- \\mu)^2 = S^2 + \\frac{\\sigma^2}{n} = S^2 + \\frac{E[\\sigma^2]}{n}$\n",
    "\n",
    "## $S^2 = \\frac{n}{n-1} E[\\sigma^2]$"
   ]
  },
  {
   "cell_type": "code",
   "execution_count": null,
   "metadata": {},
   "outputs": [],
   "source": []
  }
 ],
 "metadata": {
  "kernelspec": {
   "display_name": "Python 3",
   "language": "python",
   "name": "python3"
  },
  "language_info": {
   "codemirror_mode": {
    "name": "ipython",
    "version": 3
   },
   "file_extension": ".py",
   "mimetype": "text/x-python",
   "name": "python",
   "nbconvert_exporter": "python",
   "pygments_lexer": "ipython3",
   "version": "3.7.1"
  }
 },
 "nbformat": 4,
 "nbformat_minor": 2
}
