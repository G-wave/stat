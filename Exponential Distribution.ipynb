{
 "cells": [
  {
   "cell_type": "markdown",
   "metadata": {},
   "source": [
    "# Exponential Distribution "
   ]
  },
  {
   "cell_type": "markdown",
   "metadata": {},
   "source": [
    "Exponential Distribution describes the time between events in a Poisson point process, i.e., a process in which events occur continuously and independently at a constant average rate. It has a parameter λ called rate parameter. "
   ]
  },
  {
   "cell_type": "markdown",
   "metadata": {},
   "source": [
    "$$PDF:     \\Large f(x;\\lambda) = \\Large \\{_{0\\quad \\quad \\quad x<0}^{\\lambda e^{-\\lambda x} \\quad \\; x\\geq0}$$"
   ]
  },
  {
   "cell_type": "markdown",
   "metadata": {},
   "source": [
    "### Related Distribution:\n",
    "\n",
    "<LI>It is a particular case of Gamma Distribition\n",
    "<LI>It is continous analogue of Geometric Distribition"
   ]
  },
  {
   "cell_type": "markdown",
   "metadata": {},
   "source": [
    "### Expectation & Variance:"
   ]
  },
  {
   "cell_type": "markdown",
   "metadata": {},
   "source": [
    "$$E[X] = \\frac {1}{\\lambda} \\quad Var[X] = \\frac {1}{\\lambda^2}$$  "
   ]
  },
  {
   "cell_type": "markdown",
   "metadata": {
    "collapsed": true
   },
   "source": [
    "### Derivation"
   ]
  },
  {
   "cell_type": "markdown",
   "metadata": {},
   "source": [
    "$$E[X] = \\int_{-∞}^∞xf(x)dx=\\int_0^∞x\\lambda e^{-\\lambda x}dx = \\frac{1}{\\lambda}\\int_0^∞\\lambda x e^{-\\lambda x}d\\lambda x= \\frac{1}{\\lambda}\\int_0^∞ y e^{-y}dy \\quad\\quad\\quad\\quad  y=\\lambda x$$"
   ]
  },
  {
   "cell_type": "markdown",
   "metadata": {},
   "source": [
    "$$= \\frac{1}{\\lambda}[-ye^{-y}\\mid_0^∞ +\\int_0^∞ e^{-y}dy] \\quad\\quad\\quad\\quad u=y, \\; v=-e^{-y} x$$"
   ]
  },
  {
   "cell_type": "markdown",
   "metadata": {},
   "source": [
    "$$= \\frac{1}{\\lambda}[0 - e^{-y}\\mid_0^∞] = \\frac{1}{\\lambda}$$ "
   ]
  },
  {
   "cell_type": "code",
   "execution_count": 97,
   "metadata": {
    "collapsed": true
   },
   "outputs": [],
   "source": [
    "from scipy.stats import expon\n",
    "import matplotlib.pyplot as plt\n",
    "%matplotlib inline\n",
    "import numpy as np"
   ]
  },
  {
   "cell_type": "code",
   "execution_count": 133,
   "metadata": {},
   "outputs": [],
   "source": [
    "x = expon.rvs(scale =72000, size=1000)"
   ]
  },
  {
   "cell_type": "code",
   "execution_count": 134,
   "metadata": {},
   "outputs": [
    {
     "data": {
      "image/png": "[encoded data removed]",
      "text/plain": [
       "<Figure size 1080x576 with 1 Axes>"
      ]
     },
     "metadata": {},
     "output_type": "display_data"
    }
   ],
   "source": [
    "plt.figure(figsize=(15,8))\n",
    "plt.hist(x, bins=100)\n",
    "x1 = np.mean(x),np.mean(x)\n",
    "y = 0,75\n",
    "x2 = 72000,72000\n",
    "x3 = 144000,144000\n",
    "\n",
    "plt.plot(x1,y)\n",
    "plt.plot(x2,y)\n",
    "plt.plot(x3,y)\n",
    "plt.show()"
   ]
  },
  {
   "cell_type": "code",
   "execution_count": 117,
   "metadata": {},
   "outputs": [
    {
     "data": {
      "text/plain": [
       "76271.84962529593"
      ]
     },
     "execution_count": 117,
     "metadata": {},
     "output_type": "execute_result"
    }
   ],
   "source": [
    "np.mean(x)"
   ]
  },
  {
   "cell_type": "code",
   "execution_count": null,
   "metadata": {
    "collapsed": true
   },
   "outputs": [],
   "source": []
  }
 ],
 "metadata": {
  "kernelspec": {
   "display_name": "Python 3",
   "language": "python",
   "name": "python3"
  },
  "language_info": {
   "codemirror_mode": {
    "name": "ipython",
    "version": 3
   },
   "file_extension": ".py",
   "mimetype": "text/x-python",
   "name": "python",
   "nbconvert_exporter": "python",
   "pygments_lexer": "ipython3",
   "version": "3.6.2"
  }
 },
 "nbformat": 4,
 "nbformat_minor": 2
}
